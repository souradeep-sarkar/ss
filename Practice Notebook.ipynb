{
 "cells": [
  {
   "cell_type": "code",
   "execution_count": 3,
   "metadata": {},
   "outputs": [],
   "source": [
    "import pandas as pd"
   ]
  },
  {
   "cell_type": "code",
   "execution_count": 32,
   "metadata": {},
   "outputs": [
    {
     "data": {
      "text/plain": [
       "'0.25.1'"
      ]
     },
     "execution_count": 32,
     "metadata": {},
     "output_type": "execute_result"
    }
   ],
   "source": [
    "pd.__version__"
   ]
  },
  {
   "cell_type": "code",
   "execution_count": 73,
   "metadata": {},
   "outputs": [
    {
     "name": "stderr",
     "output_type": "stream",
     "text": [
      "b'Skipping line 36: expected 16 fields, saw 17\\nSkipping line 48: expected 16 fields, saw 17\\nSkipping line 54: expected 16 fields, saw 17\\nSkipping line 62: expected 16 fields, saw 17\\nSkipping line 71: expected 16 fields, saw 17\\nSkipping line 77: expected 16 fields, saw 17\\nSkipping line 81: expected 16 fields, saw 17\\nSkipping line 215: expected 16 fields, saw 17\\nSkipping line 353: expected 16 fields, saw 17\\nSkipping line 362: expected 16 fields, saw 17\\nSkipping line 459: expected 16 fields, saw 17\\nSkipping line 491: expected 16 fields, saw 17\\nSkipping line 492: expected 16 fields, saw 17\\nSkipping line 493: expected 16 fields, saw 17\\nSkipping line 619: expected 16 fields, saw 17\\nSkipping line 732: expected 16 fields, saw 17\\nSkipping line 793: expected 16 fields, saw 18\\nSkipping line 795: expected 16 fields, saw 17\\nSkipping line 881: expected 16 fields, saw 17\\nSkipping line 1039: expected 16 fields, saw 17\\nSkipping line 1235: expected 16 fields, saw 17\\nSkipping line 1270: expected 16 fields, saw 17\\nSkipping line 1289: expected 16 fields, saw 17\\nSkipping line 1309: expected 16 fields, saw 17\\nSkipping line 1346: expected 16 fields, saw 17\\nSkipping line 1366: expected 16 fields, saw 17\\nSkipping line 1422: expected 16 fields, saw 17\\nSkipping line 1509: expected 16 fields, saw 18\\nSkipping line 1532: expected 16 fields, saw 17\\nSkipping line 1634: expected 16 fields, saw 17\\nSkipping line 1755: expected 16 fields, saw 17\\nSkipping line 1815: expected 16 fields, saw 17\\nSkipping line 1834: expected 16 fields, saw 17\\nSkipping line 1838: expected 16 fields, saw 17\\nSkipping line 1903: expected 16 fields, saw 17\\nSkipping line 1910: expected 16 fields, saw 17\\nSkipping line 1981: expected 16 fields, saw 17\\nSkipping line 2053: expected 16 fields, saw 17\\nSkipping line 2069: expected 16 fields, saw 17\\nSkipping line 2201: expected 16 fields, saw 17\\nSkipping line 2216: expected 16 fields, saw 17\\nSkipping line 2281: expected 16 fields, saw 17\\nSkipping line 2446: expected 16 fields, saw 18\\nSkipping line 2599: expected 16 fields, saw 17\\nSkipping line 2608: expected 16 fields, saw 17\\nSkipping line 2687: expected 16 fields, saw 17\\nSkipping line 2692: expected 16 fields, saw 17\\nSkipping line 2775: expected 16 fields, saw 17\\nSkipping line 2779: expected 16 fields, saw 17\\nSkipping line 2782: expected 16 fields, saw 17\\nSkipping line 2851: expected 16 fields, saw 17\\nSkipping line 3025: expected 16 fields, saw 17\\nSkipping line 3053: expected 16 fields, saw 17\\nSkipping line 3259: expected 16 fields, saw 17\\nSkipping line 3320: expected 16 fields, saw 17\\nSkipping line 3334: expected 16 fields, saw 17\\nSkipping line 3338: expected 16 fields, saw 18\\nSkipping line 3464: expected 16 fields, saw 17\\nSkipping line 3467: expected 16 fields, saw 17\\nSkipping line 3468: expected 16 fields, saw 17\\nSkipping line 3469: expected 16 fields, saw 17\\nSkipping line 3493: expected 16 fields, saw 17\\nSkipping line 3496: expected 16 fields, saw 17\\nSkipping line 3615: expected 16 fields, saw 17\\nSkipping line 3856: expected 16 fields, saw 17\\nSkipping line 3985: expected 16 fields, saw 17\\nSkipping line 4010: expected 16 fields, saw 17\\nSkipping line 4015: expected 16 fields, saw 17\\nSkipping line 4044: expected 16 fields, saw 17\\nSkipping line 4057: expected 16 fields, saw 17\\nSkipping line 4280: expected 16 fields, saw 17\\nSkipping line 4340: expected 16 fields, saw 17\\nSkipping line 4412: expected 16 fields, saw 17\\nSkipping line 4707: expected 16 fields, saw 17\\nSkipping line 5024: expected 16 fields, saw 17\\nSkipping line 5487: expected 16 fields, saw 17\\nSkipping line 5527: expected 16 fields, saw 17\\nSkipping line 5532: expected 16 fields, saw 17\\nSkipping line 5555: expected 16 fields, saw 17\\nSkipping line 6005: expected 16 fields, saw 17\\nSkipping line 6083: expected 16 fields, saw 17\\nSkipping line 6115: expected 16 fields, saw 17\\nSkipping line 6504: expected 16 fields, saw 17\\nSkipping line 6684: expected 16 fields, saw 17\\nSkipping line 6964: expected 16 fields, saw 17\\nSkipping line 7081: expected 16 fields, saw 17\\nSkipping line 7208: expected 16 fields, saw 17\\nSkipping line 7313: expected 16 fields, saw 17\\nSkipping line 7358: expected 16 fields, saw 17\\nSkipping line 7644: expected 16 fields, saw 17\\nSkipping line 7883: expected 16 fields, saw 17\\n'\n"
     ]
    }
   ],
   "source": [
    "df3 = pd.read_csv('test_data_upload3.csv', error_bad_lines = False )                  "
   ]
  },
  {
   "cell_type": "code",
   "execution_count": 74,
   "metadata": {},
   "outputs": [
    {
     "data": {
      "text/html": [
       "<div>\n",
       "<style scoped>\n",
       "    .dataframe tbody tr th:only-of-type {\n",
       "        vertical-align: middle;\n",
       "    }\n",
       "\n",
       "    .dataframe tbody tr th {\n",
       "        vertical-align: top;\n",
       "    }\n",
       "\n",
       "    .dataframe thead th {\n",
       "        text-align: right;\n",
       "    }\n",
       "</style>\n",
       "<table border=\"1\" class=\"dataframe\">\n",
       "  <thead>\n",
       "    <tr style=\"text-align: right;\">\n",
       "      <th></th>\n",
       "      <th>49091</th>\n",
       "      <th>COZICOMFORT LONG TERM STAY ROOM 2</th>\n",
       "      <th>266763</th>\n",
       "      <th>Francesca</th>\n",
       "      <th>North Region</th>\n",
       "      <th>Woodlands</th>\n",
       "      <th>1.44255</th>\n",
       "      <th>103.7958</th>\n",
       "      <th>Private room</th>\n",
       "      <th>83</th>\n",
       "      <th>180</th>\n",
       "      <th>1</th>\n",
       "      <th>2013-10-21</th>\n",
       "      <th>0.01</th>\n",
       "      <th>2</th>\n",
       "      <th>365</th>\n",
       "    </tr>\n",
       "  </thead>\n",
       "  <tbody>\n",
       "    <tr>\n",
       "      <td>0</td>\n",
       "      <td>50646</td>\n",
       "      <td>Pleasant Room along Bukit Timah</td>\n",
       "      <td>227796</td>\n",
       "      <td>Sujatha</td>\n",
       "      <td>Central Region</td>\n",
       "      <td>Bukit Timah</td>\n",
       "      <td>1.33235</td>\n",
       "      <td>103.78521</td>\n",
       "      <td>Private room</td>\n",
       "      <td>81</td>\n",
       "      <td>90</td>\n",
       "      <td>18</td>\n",
       "      <td>2014-12-26</td>\n",
       "      <td>0.28</td>\n",
       "      <td>1</td>\n",
       "      <td>365</td>\n",
       "    </tr>\n",
       "  </tbody>\n",
       "</table>\n",
       "</div>"
      ],
      "text/plain": [
       "   49091 COZICOMFORT LONG TERM STAY ROOM 2  266763 Francesca    North Region  \\\n",
       "0  50646   Pleasant Room along Bukit Timah  227796   Sujatha  Central Region   \n",
       "\n",
       "     Woodlands  1.44255   103.7958  Private room  83  180   1  2013-10-21  \\\n",
       "0  Bukit Timah  1.33235  103.78521  Private room  81   90  18  2014-12-26   \n",
       "\n",
       "   0.01  2  365  \n",
       "0  0.28  1  365  "
      ]
     },
     "execution_count": 74,
     "metadata": {},
     "output_type": "execute_result"
    }
   ],
   "source": [
    "df3.head(1)"
   ]
  },
  {
   "cell_type": "code",
   "execution_count": null,
   "metadata": {},
   "outputs": [],
   "source": []
  },
  {
   "cell_type": "code",
   "execution_count": null,
   "metadata": {},
   "outputs": [],
   "source": []
  },
  {
   "cell_type": "code",
   "execution_count": null,
   "metadata": {},
   "outputs": [],
   "source": []
  },
  {
   "cell_type": "code",
   "execution_count": 75,
   "metadata": {},
   "outputs": [],
   "source": [
    "#df3.head()\n",
    "cols = ['id', 'name', 'host_id', 'host_name', 'neighbourhood_group',\n",
    "       'neighbourhood', 'latitude', 'longitude', 'room_type', 'price',\n",
    "       'minimum_nights', 'number_of_reviews', 'last_review',\n",
    "       'reviews_per_month', 'calculated_host_listings_count',\n",
    "       'availability_365']\n"
   ]
  },
  {
   "cell_type": "code",
   "execution_count": 76,
   "metadata": {},
   "outputs": [],
   "source": [
    "df3 = pd.read_csv('test_data_upload3.csv',names = cols ,error_bad_lines= False)"
   ]
  },
  {
   "cell_type": "code",
   "execution_count": 77,
   "metadata": {},
   "outputs": [
    {
     "data": {
      "text/html": [
       "<div>\n",
       "<style scoped>\n",
       "    .dataframe tbody tr th:only-of-type {\n",
       "        vertical-align: middle;\n",
       "    }\n",
       "\n",
       "    .dataframe tbody tr th {\n",
       "        vertical-align: top;\n",
       "    }\n",
       "\n",
       "    .dataframe thead th {\n",
       "        text-align: right;\n",
       "    }\n",
       "</style>\n",
       "<table border=\"1\" class=\"dataframe\">\n",
       "  <thead>\n",
       "    <tr style=\"text-align: right;\">\n",
       "      <th></th>\n",
       "      <th>id</th>\n",
       "      <th>name</th>\n",
       "      <th>host_id</th>\n",
       "      <th>host_name</th>\n",
       "      <th>neighbourhood_group</th>\n",
       "      <th>neighbourhood</th>\n",
       "      <th>latitude</th>\n",
       "      <th>longitude</th>\n",
       "      <th>room_type</th>\n",
       "      <th>price</th>\n",
       "      <th>minimum_nights</th>\n",
       "      <th>number_of_reviews</th>\n",
       "      <th>last_review</th>\n",
       "      <th>reviews_per_month</th>\n",
       "      <th>calculated_host_listings_count</th>\n",
       "      <th>availability_365</th>\n",
       "    </tr>\n",
       "  </thead>\n",
       "  <tbody>\n",
       "    <tr>\n",
       "      <td>0</td>\n",
       "      <td>49091</td>\n",
       "      <td>COZICOMFORT LONG TERM STAY ROOM 2</td>\n",
       "      <td>266763</td>\n",
       "      <td>Francesca</td>\n",
       "      <td>North Region</td>\n",
       "      <td>Woodlands</td>\n",
       "      <td>1.44255</td>\n",
       "      <td>103.7958</td>\n",
       "      <td>Private room</td>\n",
       "      <td>83</td>\n",
       "      <td>180</td>\n",
       "      <td>1</td>\n",
       "      <td>2013-10-21</td>\n",
       "      <td>0.01</td>\n",
       "      <td>2</td>\n",
       "      <td>365.0</td>\n",
       "    </tr>\n",
       "    <tr>\n",
       "      <td>1</td>\n",
       "      <td>50646</td>\n",
       "      <td>Pleasant Room along Bukit Timah</td>\n",
       "      <td>227796</td>\n",
       "      <td>Sujatha</td>\n",
       "      <td>Central Region</td>\n",
       "      <td>Bukit Timah</td>\n",
       "      <td>1.33235</td>\n",
       "      <td>103.78521</td>\n",
       "      <td>Private room</td>\n",
       "      <td>81</td>\n",
       "      <td>90</td>\n",
       "      <td>18</td>\n",
       "      <td>2014-12-26</td>\n",
       "      <td>0.28</td>\n",
       "      <td>1</td>\n",
       "      <td>365.0</td>\n",
       "    </tr>\n",
       "    <tr>\n",
       "      <td>2</td>\n",
       "      <td>56334</td>\n",
       "      <td>COZICOMFORT</td>\n",
       "      <td>266763</td>\n",
       "      <td>Francesca</td>\n",
       "      <td>North Region</td>\n",
       "      <td>Woodlands</td>\n",
       "      <td>1.44246</td>\n",
       "      <td>103.79667</td>\n",
       "      <td>Private room</td>\n",
       "      <td>69</td>\n",
       "      <td>6</td>\n",
       "      <td>20</td>\n",
       "      <td>2015-10-01</td>\n",
       "      <td>0.20</td>\n",
       "      <td>2</td>\n",
       "      <td>365.0</td>\n",
       "    </tr>\n",
       "    <tr>\n",
       "      <td>3</td>\n",
       "      <td>71609</td>\n",
       "      <td>Ensuite Room (Room 1 &amp; 2) near EXPO</td>\n",
       "      <td>367042</td>\n",
       "      <td>Belinda</td>\n",
       "      <td>East Region</td>\n",
       "      <td>Tampines</td>\n",
       "      <td>1.34541</td>\n",
       "      <td>103.95712</td>\n",
       "      <td>Private room</td>\n",
       "      <td>206</td>\n",
       "      <td>1</td>\n",
       "      <td>14</td>\n",
       "      <td>2019-08-11</td>\n",
       "      <td>0.15</td>\n",
       "      <td>9</td>\n",
       "      <td>353.0</td>\n",
       "    </tr>\n",
       "    <tr>\n",
       "      <td>4</td>\n",
       "      <td>71896</td>\n",
       "      <td>B&amp;B  Room 1 near Airport &amp; EXPO</td>\n",
       "      <td>367042</td>\n",
       "      <td>Belinda</td>\n",
       "      <td>East Region</td>\n",
       "      <td>Tampines</td>\n",
       "      <td>1.34567</td>\n",
       "      <td>103.95963</td>\n",
       "      <td>Private room</td>\n",
       "      <td>94</td>\n",
       "      <td>1</td>\n",
       "      <td>22</td>\n",
       "      <td>2019-07-28</td>\n",
       "      <td>0.22</td>\n",
       "      <td>9</td>\n",
       "      <td>355.0</td>\n",
       "    </tr>\n",
       "  </tbody>\n",
       "</table>\n",
       "</div>"
      ],
      "text/plain": [
       "      id                                 name host_id  host_name  \\\n",
       "0  49091    COZICOMFORT LONG TERM STAY ROOM 2  266763  Francesca   \n",
       "1  50646      Pleasant Room along Bukit Timah  227796    Sujatha   \n",
       "2  56334                          COZICOMFORT  266763  Francesca   \n",
       "3  71609  Ensuite Room (Room 1 & 2) near EXPO  367042    Belinda   \n",
       "4  71896      B&B  Room 1 near Airport & EXPO  367042    Belinda   \n",
       "\n",
       "  neighbourhood_group neighbourhood latitude  longitude     room_type price  \\\n",
       "0        North Region     Woodlands  1.44255   103.7958  Private room    83   \n",
       "1      Central Region   Bukit Timah  1.33235  103.78521  Private room    81   \n",
       "2        North Region     Woodlands  1.44246  103.79667  Private room    69   \n",
       "3         East Region      Tampines  1.34541  103.95712  Private room   206   \n",
       "4         East Region      Tampines  1.34567  103.95963  Private room    94   \n",
       "\n",
       "  minimum_nights  number_of_reviews last_review reviews_per_month  \\\n",
       "0            180                  1  2013-10-21              0.01   \n",
       "1             90                 18  2014-12-26              0.28   \n",
       "2              6                 20  2015-10-01              0.20   \n",
       "3              1                 14  2019-08-11              0.15   \n",
       "4              1                 22  2019-07-28              0.22   \n",
       "\n",
       "  calculated_host_listings_count  availability_365  \n",
       "0                              2             365.0  \n",
       "1                              1             365.0  \n",
       "2                              2             365.0  \n",
       "3                              9             353.0  \n",
       "4                              9             355.0  "
      ]
     },
     "execution_count": 77,
     "metadata": {},
     "output_type": "execute_result"
    }
   ],
   "source": [
    "df3.head()"
   ]
  },
  {
   "cell_type": "code",
   "execution_count": null,
   "metadata": {},
   "outputs": [],
   "source": []
  },
  {
   "cell_type": "code",
   "execution_count": null,
   "metadata": {},
   "outputs": [],
   "source": []
  },
  {
   "cell_type": "code",
   "execution_count": null,
   "metadata": {},
   "outputs": [],
   "source": []
  },
  {
   "cell_type": "code",
   "execution_count": null,
   "metadata": {},
   "outputs": [],
   "source": []
  },
  {
   "cell_type": "code",
   "execution_count": null,
   "metadata": {},
   "outputs": [],
   "source": []
  },
  {
   "cell_type": "code",
   "execution_count": null,
   "metadata": {},
   "outputs": [],
   "source": []
  }
 ],
 "metadata": {
  "kernelspec": {
   "display_name": "Python 3",
   "language": "python",
   "name": "python3"
  },
  "language_info": {
   "codemirror_mode": {
    "name": "ipython",
    "version": 3
   },
   "file_extension": ".py",
   "mimetype": "text/x-python",
   "name": "python",
   "nbconvert_exporter": "python",
   "pygments_lexer": "ipython3",
   "version": "3.6.9"
  }
 },
 "nbformat": 4,
 "nbformat_minor": 2
}
